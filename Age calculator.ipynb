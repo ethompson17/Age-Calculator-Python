{
 "cells": [
  {
   "cell_type": "code",
   "execution_count": 45,
   "id": "5632acd9",
   "metadata": {},
   "outputs": [
    {
     "name": "stdout",
     "output_type": "stream",
     "text": [
      "Rachel's age is 22 years old.\n",
      "Eli's age is 22 years old.\n",
      "Eli and Rachel's age combined is 44 years old.\n"
     ]
    }
   ],
   "source": [
    "import pandas\n",
    "from datetime import date\n",
    "\n",
    "Rachel = date(2000, 1, 1)\n",
    "Eli = date(2000, 1, 1)\n",
    "today = date.today()\n",
    "r_age = today.year - Rachel.year - ((today.month, today.day) < (Rachel.month, Rachel.day))\n",
    "e_age = today.year - Eli.year - ((today.month, today.day) < (Eli.month, Eli.day))\n",
    "age_combined = r_age + e_age\n",
    "print(\"Rachel's age is\", r_age, 'years old.')\n",
    "print(\"Eli's age is\", e_age, 'years old.' )\n",
    "print(\"Eli and Rachel's age combined is\", age_combined, 'years old.')"
   ]
  },
  {
   "cell_type": "markdown",
   "id": "035378f0",
   "metadata": {},
   "source": [
    "# Age Calculator Below"
   ]
  },
  {
   "cell_type": "code",
   "execution_count": 52,
   "id": "b7e80a9f",
   "metadata": {},
   "outputs": [
    {
     "name": "stdout",
     "output_type": "stream",
     "text": [
      "Age Calculator\n",
      "\n",
      "Enter a month (mm): 1\n",
      "Enter a day (dd): 1\n",
      "Enter a year (yyyy): 3000\n",
      "\n",
      "Invalid date, please input a date between Jan 1, 1900 and October 02, 2022\n",
      "Enter a month (mm): 1\n",
      "Enter a day (dd): 1\n",
      "Enter a year (yyyy): 2002\n",
      "\n",
      "Your birthdate is Jan 01, 2002\n",
      "Your age is 20 years old.\n"
     ]
    }
   ],
   "source": [
    "from datetime import datetime\n",
    "from datetime import date\n",
    "import datetime\n",
    "\n",
    "print('Age Calculator\\n')\n",
    "month = int(input('Enter a month (mm): '))\n",
    "day = int(input('Enter a day (dd): '))\n",
    "year = int(input('Enter a year (yyyy): '))\n",
    "\n",
    "today = date.today()\n",
    "bd = date(year, month, day)\n",
    "bdstr = bd.strftime('%b %d, %Y')\n",
    "\n",
    "while bd < datetime.date(1900, 1, 1) or bd > date.today():\n",
    "    print(\"\\nInvalid date, please input a date between Jan 1, 1900 and\", date.today().strftime('%B %d, %Y'))\n",
    "    month = int(input('Enter a month (mm): '))\n",
    "    day = int(input('Enter a day (dd): '))\n",
    "    year = int(input('Enter a year (yyyy): '))\n",
    "    bd = date(year, month, day)\n",
    "    bdstr = bd.strftime('%b %d, %Y')\n",
    "    \n",
    "if bd > datetime.date(1900, 1, 1) and bd < date.today():\n",
    "    age = today.year - bd.year - ((today.month, today.day) < (bd.month, bd.day))\n",
    "    print('\\nYour birthdate is',bdstr)\n",
    "    print(\"Your age is\", age, 'years old.' )\n"
   ]
  }
 ],
 "metadata": {
  "kernelspec": {
   "display_name": "Python 3 (ipykernel)",
   "language": "python",
   "name": "python3"
  },
  "language_info": {
   "codemirror_mode": {
    "name": "ipython",
    "version": 3
   },
   "file_extension": ".py",
   "mimetype": "text/x-python",
   "name": "python",
   "nbconvert_exporter": "python",
   "pygments_lexer": "ipython3",
   "version": "3.9.7"
  }
 },
 "nbformat": 4,
 "nbformat_minor": 5
}
