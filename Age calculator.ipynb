{
 "cells": [
  {
   "cell_type": "code",
   "execution_count": 40,
   "id": "5632acd9",
   "metadata": {},
   "outputs": [
    {
     "name": "stdout",
     "output_type": "stream",
     "text": [
      "Rachel's age is 20 years old.\n",
      "Eli's age is 19 years old.\n",
      "Eli and Rachel's age combined is 39 years old.\n"
     ]
    }
   ],
   "source": [
    "import pandas\n",
    "from datetime import date\n",
    "\n",
    "Rachel = date(2002, 6, 25)\n",
    "Eli = date(2002, 11, 30)\n",
    "today = date.today()\n",
    "r_age = today.year - Rachel.year - ((today.month, today.day) < (Rachel.month, Rachel.day))\n",
    "e_age = today.year - Eli.year - ((today.month, today.day) < (Eli.month, Eli.day))\n",
    "age_combined = r_age + e_age\n",
    "print(\"Rachel's age is\", r_age, 'years old.')\n",
    "print(\"Eli's age is\", e_age, 'years old.' )\n",
    "print(\"Eli and Rachel's age combined is\", age_combined, 'years old.')"
   ]
  }
 ],
 "metadata": {
  "kernelspec": {
   "display_name": "Python 3 (ipykernel)",
   "language": "python",
   "name": "python3"
  },
  "language_info": {
   "codemirror_mode": {
    "name": "ipython",
    "version": 3
   },
   "file_extension": ".py",
   "mimetype": "text/x-python",
   "name": "python",
   "nbconvert_exporter": "python",
   "pygments_lexer": "ipython3",
   "version": "3.9.7"
  }
 },
 "nbformat": 4,
 "nbformat_minor": 5
}
